{
  "nbformat": 4,
  "nbformat_minor": 0,
  "metadata": {
    "colab": {
      "provenance": [],
      "authorship_tag": "ABX9TyNcK3gzD9hLKNYRwXu09Qto",
      "include_colab_link": true
    },
    "kernelspec": {
      "name": "python3",
      "display_name": "Python 3"
    },
    "language_info": {
      "name": "python"
    }
  },
  "cells": [
    {
      "cell_type": "markdown",
      "metadata": {
        "id": "view-in-github",
        "colab_type": "text"
      },
      "source": [
        "<a href=\"https://colab.research.google.com/github/ghassen22/checkpoint/blob/main/checkpointQ6.ipynb\" target=\"_parent\"><img src=\"https://colab.research.google.com/assets/colab-badge.svg\" alt=\"Open In Colab\"/></a>"
      ]
    },
    {
      "cell_type": "code",
      "execution_count": 3,
      "metadata": {
        "colab": {
          "base_uri": "https://localhost:8080/"
        },
        "id": "ynUhnK2G8_tY",
        "outputId": "22e690ea-dbae-43f4-c74b-0b7092622914"
      },
      "outputs": [
        {
          "output_type": "stream",
          "name": "stdout",
          "text": [
            "Original array1: [0 1 2]\n",
            "Original array2: [2 1 0]\n",
            "matrix: [[ 1. -1.]\n",
            " [-1.  1.]]\n"
          ]
        }
      ],
      "source": [
        "import numpy as np\n",
        "arr1 = np.array([0, 1, 2])\n",
        "arr2 = np.array([2, 1, 0])\n",
        "cov = np.cov(arr1, arr2)\n",
        "\n",
        "\n",
        "print(\"Original array1:\", arr1)\n",
        "print(\"Original array2:\", arr2)\n",
        "print(\"matrix:\", cov)"
      ]
    }
  ]
}