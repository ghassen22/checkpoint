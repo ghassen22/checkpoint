{
  "nbformat": 4,
  "nbformat_minor": 0,
  "metadata": {
    "colab": {
      "provenance": [],
      "authorship_tag": "ABX9TyOP93OW2Gtr3R0gPM8x9iGj",
      "include_colab_link": true
    },
    "kernelspec": {
      "name": "python3",
      "display_name": "Python 3"
    },
    "language_info": {
      "name": "python"
    }
  },
  "cells": [
    {
      "cell_type": "markdown",
      "metadata": {
        "id": "view-in-github",
        "colab_type": "text"
      },
      "source": [
        "<a href=\"https://colab.research.google.com/github/ghassen22/checkpoint/blob/main/checkpointQ7ipynb.ipynb\" target=\"_parent\"><img src=\"https://colab.research.google.com/assets/colab-badge.svg\" alt=\"Open In Colab\"/></a>"
      ]
    },
    {
      "cell_type": "code",
      "execution_count": 1,
      "metadata": {
        "colab": {
          "base_uri": "https://localhost:8080/"
        },
        "id": "ssvmmoiJ_mlB",
        "outputId": "fbbb6e51-62ef-4523-90f7-f6ef871ff7db"
      },
      "outputs": [
        {
          "output_type": "stream",
          "name": "stdout",
          "text": [
            "Enter the values of D: 28\n",
            "10\n"
          ]
        }
      ],
      "source": [
        "import math\n",
        "\n",
        "# Fixed values of C and H\n",
        "C = 50\n",
        "H = 30\n",
        "\n",
        "\n",
        "input_str = input(\"Enter the values of D: \")\n",
        "D_values = input_str.split(',')\n",
        "\n",
        "\n",
        "Q_values = []\n",
        "for D in D_values:\n",
        "    Q = math.sqrt((2*C*int(D))/H)\n",
        "    Q_values.append(round(Q))\n",
        "\n",
        "# Print the output\n",
        "output_str = ','.join(map(str, Q_values))\n",
        "print(output_str)"
      ]
    }
  ]
}