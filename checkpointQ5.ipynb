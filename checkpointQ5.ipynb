{
  "nbformat": 4,
  "nbformat_minor": 0,
  "metadata": {
    "colab": {
      "provenance": [],
      "authorship_tag": "ABX9TyMWYd64OTkiP1iYIMwMNoOG",
      "include_colab_link": true
    },
    "kernelspec": {
      "name": "python3",
      "display_name": "Python 3"
    },
    "language_info": {
      "name": "python"
    }
  },
  "cells": [
    {
      "cell_type": "markdown",
      "metadata": {
        "id": "view-in-github",
        "colab_type": "text"
      },
      "source": [
        "<a href=\"https://colab.research.google.com/github/ghassen22/checkpoint/blob/main/checkpointQ5.ipynb\" target=\"_parent\"><img src=\"https://colab.research.google.com/assets/colab-badge.svg\" alt=\"Open In Colab\"/></a>"
      ]
    },
    {
      "cell_type": "code",
      "execution_count": 1,
      "metadata": {
        "colab": {
          "base_uri": "https://localhost:8080/"
        },
        "id": "81fFQYe_7b3_",
        "outputId": "13cb0ea5-50a5-4507-9b4a-ed9607daaba4"
      },
      "outputs": [
        {
          "output_type": "stream",
          "name": "stdout",
          "text": [
            "Original array elements: [[0 1]\n",
            " [2 3]\n",
            " [4 5]]\n",
            "Array to list: [[0, 1], [2, 3], [4, 5]]\n"
          ]
        }
      ],
      "source": [
        "import numpy as np\n",
        "\n",
        "#  NumPy array\n",
        "arr = np.array([[0, 1], [2, 3], [4, 5]])\n",
        "\n",
        "# Python list\n",
        "lst = arr.tolist()\n",
        "\n",
        "\n",
        "print(\"Original array elements:\", arr)\n",
        "print(\"Array to list:\", lst)"
      ]
    }
  ]
}